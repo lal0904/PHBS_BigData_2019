{
 "cells": [
  {
   "cell_type": "markdown",
   "metadata": {},
   "source": [
    "# Problem 1"
   ]
  },
  {
   "cell_type": "markdown",
   "metadata": {},
   "source": [
    "### 1. Calculate the coefficient according to the training set"
   ]
  },
  {
   "cell_type": "code",
   "execution_count": 57,
   "metadata": {},
   "outputs": [
    {
     "data": {
      "text/html": [
       "<div>\n",
       "<style scoped>\n",
       "    .dataframe tbody tr th:only-of-type {\n",
       "        vertical-align: middle;\n",
       "    }\n",
       "\n",
       "    .dataframe tbody tr th {\n",
       "        vertical-align: top;\n",
       "    }\n",
       "\n",
       "    .dataframe thead th {\n",
       "        text-align: right;\n",
       "    }\n",
       "</style>\n",
       "<table border=\"1\" class=\"dataframe\">\n",
       "  <thead>\n",
       "    <tr style=\"text-align: right;\">\n",
       "      <th></th>\n",
       "      <th>Year</th>\n",
       "      <th>Month</th>\n",
       "      <th>MEI</th>\n",
       "      <th>CO2</th>\n",
       "      <th>CH4</th>\n",
       "      <th>N2O</th>\n",
       "      <th>CFC-11</th>\n",
       "      <th>CFC-12</th>\n",
       "      <th>TSI</th>\n",
       "      <th>Aerosols</th>\n",
       "      <th>Temp</th>\n",
       "    </tr>\n",
       "  </thead>\n",
       "  <tbody>\n",
       "    <tr>\n",
       "      <th>0</th>\n",
       "      <td>1983</td>\n",
       "      <td>5</td>\n",
       "      <td>2.556</td>\n",
       "      <td>345.96</td>\n",
       "      <td>1638.59</td>\n",
       "      <td>303.677</td>\n",
       "      <td>191.324</td>\n",
       "      <td>350.113</td>\n",
       "      <td>1366.1024</td>\n",
       "      <td>0.0863</td>\n",
       "      <td>0.109</td>\n",
       "    </tr>\n",
       "    <tr>\n",
       "      <th>1</th>\n",
       "      <td>1983</td>\n",
       "      <td>6</td>\n",
       "      <td>2.167</td>\n",
       "      <td>345.52</td>\n",
       "      <td>1633.71</td>\n",
       "      <td>303.746</td>\n",
       "      <td>192.057</td>\n",
       "      <td>351.848</td>\n",
       "      <td>1366.1208</td>\n",
       "      <td>0.0794</td>\n",
       "      <td>0.118</td>\n",
       "    </tr>\n",
       "    <tr>\n",
       "      <th>2</th>\n",
       "      <td>1983</td>\n",
       "      <td>7</td>\n",
       "      <td>1.741</td>\n",
       "      <td>344.15</td>\n",
       "      <td>1633.22</td>\n",
       "      <td>303.795</td>\n",
       "      <td>192.818</td>\n",
       "      <td>353.725</td>\n",
       "      <td>1366.2850</td>\n",
       "      <td>0.0731</td>\n",
       "      <td>0.137</td>\n",
       "    </tr>\n",
       "    <tr>\n",
       "      <th>3</th>\n",
       "      <td>1983</td>\n",
       "      <td>8</td>\n",
       "      <td>1.130</td>\n",
       "      <td>342.25</td>\n",
       "      <td>1631.35</td>\n",
       "      <td>303.839</td>\n",
       "      <td>193.602</td>\n",
       "      <td>355.633</td>\n",
       "      <td>1366.4202</td>\n",
       "      <td>0.0673</td>\n",
       "      <td>0.176</td>\n",
       "    </tr>\n",
       "    <tr>\n",
       "      <th>4</th>\n",
       "      <td>1983</td>\n",
       "      <td>9</td>\n",
       "      <td>0.428</td>\n",
       "      <td>340.17</td>\n",
       "      <td>1648.40</td>\n",
       "      <td>303.901</td>\n",
       "      <td>194.392</td>\n",
       "      <td>357.465</td>\n",
       "      <td>1366.2335</td>\n",
       "      <td>0.0619</td>\n",
       "      <td>0.149</td>\n",
       "    </tr>\n",
       "  </tbody>\n",
       "</table>\n",
       "</div>"
      ],
      "text/plain": [
       "   Year  Month    MEI     CO2      CH4      N2O   CFC-11   CFC-12        TSI  \\\n",
       "0  1983      5  2.556  345.96  1638.59  303.677  191.324  350.113  1366.1024   \n",
       "1  1983      6  2.167  345.52  1633.71  303.746  192.057  351.848  1366.1208   \n",
       "2  1983      7  1.741  344.15  1633.22  303.795  192.818  353.725  1366.2850   \n",
       "3  1983      8  1.130  342.25  1631.35  303.839  193.602  355.633  1366.4202   \n",
       "4  1983      9  0.428  340.17  1648.40  303.901  194.392  357.465  1366.2335   \n",
       "\n",
       "   Aerosols   Temp  \n",
       "0    0.0863  0.109  \n",
       "1    0.0794  0.118  \n",
       "2    0.0731  0.137  \n",
       "3    0.0673  0.176  \n",
       "4    0.0619  0.149  "
      ]
     },
     "execution_count": 57,
     "metadata": {},
     "output_type": "execute_result"
    }
   ],
   "source": [
    "import pandas as pd\n",
    "import numpy as np\n",
    "import matplotlib.pyplot as plt\n",
    "from pandas import DataFrame,Series\n",
    "from scipy import stats\n",
    "from sklearn.linear_model import RidgeCV\n",
    "\n",
    "\n",
    "data = pd.read_csv(\"climate_change_1.csv\") \n",
    "train = data[data.Year<=2006]\n",
    "train.head()\n",
    "\n",
    "\n"
   ]
  },
  {
   "cell_type": "code",
   "execution_count": 33,
   "metadata": {},
   "outputs": [
    {
     "data": {
      "text/html": [
       "<div>\n",
       "<style scoped>\n",
       "    .dataframe tbody tr th:only-of-type {\n",
       "        vertical-align: middle;\n",
       "    }\n",
       "\n",
       "    .dataframe tbody tr th {\n",
       "        vertical-align: top;\n",
       "    }\n",
       "\n",
       "    .dataframe thead th {\n",
       "        text-align: right;\n",
       "    }\n",
       "</style>\n",
       "<table border=\"1\" class=\"dataframe\">\n",
       "  <thead>\n",
       "    <tr style=\"text-align: right;\">\n",
       "      <th></th>\n",
       "      <th>coefficient</th>\n",
       "    </tr>\n",
       "  </thead>\n",
       "  <tbody>\n",
       "    <tr>\n",
       "      <th>MEI</th>\n",
       "      <td>0.064205</td>\n",
       "    </tr>\n",
       "    <tr>\n",
       "      <th>CO2</th>\n",
       "      <td>0.006457</td>\n",
       "    </tr>\n",
       "    <tr>\n",
       "      <th>CH4</th>\n",
       "      <td>0.000124</td>\n",
       "    </tr>\n",
       "    <tr>\n",
       "      <th>N2O</th>\n",
       "      <td>-0.016528</td>\n",
       "    </tr>\n",
       "    <tr>\n",
       "      <th>CFC-11</th>\n",
       "      <td>-0.006630</td>\n",
       "    </tr>\n",
       "    <tr>\n",
       "      <th>CFC-12</th>\n",
       "      <td>0.003808</td>\n",
       "    </tr>\n",
       "    <tr>\n",
       "      <th>TSI</th>\n",
       "      <td>0.093141</td>\n",
       "    </tr>\n",
       "    <tr>\n",
       "      <th>Aerosols</th>\n",
       "      <td>-1.537613</td>\n",
       "    </tr>\n",
       "    <tr>\n",
       "      <th>constant</th>\n",
       "      <td>-124.594262</td>\n",
       "    </tr>\n",
       "  </tbody>\n",
       "</table>\n",
       "</div>"
      ],
      "text/plain": [
       "          coefficient\n",
       "MEI          0.064205\n",
       "CO2          0.006457\n",
       "CH4          0.000124\n",
       "N2O         -0.016528\n",
       "CFC-11      -0.006630\n",
       "CFC-12       0.003808\n",
       "TSI          0.093141\n",
       "Aerosols    -1.537613\n",
       "constant  -124.594262"
      ]
     },
     "execution_count": 33,
     "metadata": {},
     "output_type": "execute_result"
    }
   ],
   "source": [
    "def closed_form_1(x,y):\n",
    "    return np.linalg.inv(x.T @ x) @ (x.T @ y)\n",
    "\n",
    "x_train= train[['MEI','CO2','CH4','N2O','CFC-11','CFC-12','TSI','Aerosols']]\n",
    "x_train_withc = x_train.copy()\n",
    "x_train_withc[\"constant\"] = 1\n",
    "x_train_withc = x_train_withc.values\n",
    "y_train = train[\"Temp\"].values\n",
    "theta1 = closed_form_1(x_train_withc,y_train) \n",
    "theta1_pd = pd.DataFrame(theta1)\n",
    "theta1_pd.columns=[\"coefficient\"]\n",
    "theta1_pd.index=[\"MEI\",\"CO2\",\"CH4\",\"N2O\",\"CFC-11\",\"CFC-12\",\"TSI\",\"Aerosols\",\"constant\"]\n",
    "theta1_pd\n"
   ]
  },
  {
   "cell_type": "markdown",
   "metadata": {},
   "source": [
    "### 2.1 Calculate the $R^2$ of training set"
   ]
  },
  {
   "cell_type": "markdown",
   "metadata": {},
   "source": [
    "The mathematical formula for the linear model is:\n",
    "\\begin{equation}\n",
    "y_i = \\beta_0 + \\beta_1 x_{i1} +\\beta_2 x_{i2}+……+\\beta_n x_{in}+ \\epsilon\n",
    "\\label{eq:}\n",
    "\\end{equation}\n",
    "where i is the index of samples\n",
    "\n",
    "$x_i$ is the expanatory variables, in this case, it means CO2, CH4, and other factors.\n",
    "\n",
    "$y_i$ is the dependent variables, in this case, it means Temperature.\n",
    "\n",
    "$\\beta_0$ is y intercept\n",
    "\n",
    "$\\beta_i$ is coefficients for expanatory variables\n",
    "\n",
    "$\\epsilon$ is error term\n",
    "\n",
    "in this case the formula of linear regression is :\n",
    "\n",
    "\n",
    "Temp = 0.064205\\*MEI+0.006457\\*CO2+0.000124\\*CH4+(-0.016528\\)*N2O+(-0.006630)\\*CFC-11+0.003808\\*CFC-12+0.093141\\*TSI+(-1.537613)*Aerosols-124.594262\n",
    "\n",
    "\n",
    "And $R^2$ of traning set is 0.751 and $R^2$ of test set is 0.225"
   ]
  },
  {
   "cell_type": "code",
   "execution_count": 4,
   "metadata": {},
   "outputs": [
    {
     "data": {
      "text/plain": [
       "coefficient    0.750893\n",
       "dtype: float64"
      ]
     },
     "execution_count": 4,
     "metadata": {},
     "output_type": "execute_result"
    }
   ],
   "source": [
    "\n",
    "y_hat = x_train_withc @ theta1\n",
    "\n",
    "y_bar = np.sum(y_train) / len (y_train)  # 求均值\n",
    "\n",
    "ssreg = np.sum((y_hat -y_bar)**2)\n",
    "sstot = np.sum((y_train - y_bar)**2)\n",
    "\n",
    "r_square_test = ssreg / sstot\n",
    "r_square_test"
   ]
  },
  {
   "cell_type": "markdown",
   "metadata": {},
   "source": [
    "### 2.2. Calculate the $R^2$ of testing set"
   ]
  },
  {
   "cell_type": "code",
   "execution_count": 27,
   "metadata": {},
   "outputs": [
    {
     "data": {
      "text/plain": [
       "coefficient    0.225177\n",
       "dtype: float64"
      ]
     },
     "execution_count": 27,
     "metadata": {},
     "output_type": "execute_result"
    }
   ],
   "source": [
    "test = data [data.Year > 2006]\n",
    "x_test = test[[\"MEI\",\"CO2\",\"CH4\",\"N2O\",\"CFC-11\",\"CFC-12\",\"TSI\",\"Aerosols\"]]\n",
    "x_test_withc = x_test.copy()\n",
    "x_test_withc[\"constant\"] = 1 \n",
    "x_test_withc = x_test_withc.values\n",
    "y_test = test[\"Temp\"].values\n",
    "y_hat = x_test_withc @ theta1\n",
    "\n",
    "y_bar = np.sum(y_test) / len (y_test)  \n",
    "\n",
    "ssreg = np.sum((y_hat -y_bar)**2)\n",
    "sstot = np.sum((y_test - y_bar)**2)\n",
    "\n",
    "r_square_test = ssreg / sstot\n",
    "r_square_test"
   ]
  },
  {
   "cell_type": "code",
   "execution_count": 28,
   "metadata": {},
   "outputs": [
    {
     "data": {
      "text/plain": [
       "844849471.4178216"
      ]
     },
     "execution_count": 28,
     "metadata": {},
     "output_type": "execute_result"
    }
   ],
   "source": [
    "np.linalg.det(x_test.T @ x_test)"
   ]
  },
  {
   "cell_type": "code",
   "execution_count": 29,
   "metadata": {},
   "outputs": [],
   "source": [
    "def r_square(x,y,theta):\n",
    "    yhat = x @ theta\n",
    "    ybar = np.sum(y) / len (y)  # 求均值\n",
    "    ssreg = np.sum((yhat - ybar)**2)\n",
    "    sstot = np.sum((y - yhat)**2) + ssreg\n",
    "    return ssreg / sstot"
   ]
  },
  {
   "cell_type": "markdown",
   "metadata": {},
   "source": [
    "### 3 significant  of variables"
   ]
  },
  {
   "cell_type": "code",
   "execution_count": 36,
   "metadata": {},
   "outputs": [
    {
     "data": {
      "text/html": [
       "<div>\n",
       "<style scoped>\n",
       "    .dataframe tbody tr th:only-of-type {\n",
       "        vertical-align: middle;\n",
       "    }\n",
       "\n",
       "    .dataframe tbody tr th {\n",
       "        vertical-align: top;\n",
       "    }\n",
       "\n",
       "    .dataframe thead th {\n",
       "        text-align: right;\n",
       "    }\n",
       "</style>\n",
       "<table border=\"1\" class=\"dataframe\">\n",
       "  <thead>\n",
       "    <tr style=\"text-align: right;\">\n",
       "      <th></th>\n",
       "      <th>p value</th>\n",
       "      <th>t statistic</th>\n",
       "    </tr>\n",
       "  </thead>\n",
       "  <tbody>\n",
       "    <tr>\n",
       "      <th>MEI</th>\n",
       "      <td>0.000000e+00</td>\n",
       "      <td>9.923226</td>\n",
       "    </tr>\n",
       "    <tr>\n",
       "      <th>CO2</th>\n",
       "      <td>5.042595e-03</td>\n",
       "      <td>2.826420</td>\n",
       "    </tr>\n",
       "    <tr>\n",
       "      <th>CH4</th>\n",
       "      <td>8.101405e-01</td>\n",
       "      <td>0.240469</td>\n",
       "    </tr>\n",
       "    <tr>\n",
       "      <th>N2O</th>\n",
       "      <td>5.464020e-02</td>\n",
       "      <td>-1.929726</td>\n",
       "    </tr>\n",
       "    <tr>\n",
       "      <th>CFC-11</th>\n",
       "      <td>5.913566e-05</td>\n",
       "      <td>-4.077834</td>\n",
       "    </tr>\n",
       "    <tr>\n",
       "      <th>CFC-12</th>\n",
       "      <td>2.085760e-04</td>\n",
       "      <td>3.757293</td>\n",
       "    </tr>\n",
       "    <tr>\n",
       "      <th>TSI</th>\n",
       "      <td>1.057310e-09</td>\n",
       "      <td>6.312561</td>\n",
       "    </tr>\n",
       "    <tr>\n",
       "      <th>Aerosols</th>\n",
       "      <td>5.109246e-12</td>\n",
       "      <td>-7.210301</td>\n",
       "    </tr>\n",
       "    <tr>\n",
       "      <th>constant</th>\n",
       "      <td>1.381915e-09</td>\n",
       "      <td>-6.265174</td>\n",
       "    </tr>\n",
       "  </tbody>\n",
       "</table>\n",
       "</div>"
      ],
      "text/plain": [
       "               p value  t statistic\n",
       "MEI       0.000000e+00     9.923226\n",
       "CO2       5.042595e-03     2.826420\n",
       "CH4       8.101405e-01     0.240469\n",
       "N2O       5.464020e-02    -1.929726\n",
       "CFC-11    5.913566e-05    -4.077834\n",
       "CFC-12    2.085760e-04     3.757293\n",
       "TSI       1.057310e-09     6.312561\n",
       "Aerosols  5.109246e-12    -7.210301\n",
       "constant  1.381915e-09    -6.265174"
      ]
     },
     "execution_count": 36,
     "metadata": {},
     "output_type": "execute_result"
    }
   ],
   "source": [
    "y_train_predict = x_train_withc @ theta1\n",
    "MSE = (sum((y_train-y_train_predict)**2))/(len(x_train_withc)- np.shape(x_train_withc)[1])\n",
    "var_b = MSE * (np.linalg.inv(np.dot(x_train_withc.T,x_train_withc)).diagonal())\n",
    "svar_b = np.sqrt(var_b)\n",
    "ts_b = theta1/ svar_b\n",
    "p_values =[2*(1-stats.t.cdf(np.abs(i),(len(x_train_withc)-1))) for i in ts_b]\n",
    "result = pd.DataFrame()\n",
    "result[\"p value\"] = p_values\n",
    "result[\"t statistic\"] = ts_b\n",
    "result.index=[\"MEI\",\"CO2\",\"CH4\",\"N2O\",\"CFC-11\",\"CFC-12\",\"TSI\",\"Aerosols\",\"constant\"]\n",
    "result"
   ]
  },
  {
   "cell_type": "markdown",
   "metadata": {},
   "source": [
    "### 4. climate_change_2.csv"
   ]
  },
  {
   "cell_type": "code",
   "execution_count": 37,
   "metadata": {},
   "outputs": [
    {
     "data": {
      "text/html": [
       "<div>\n",
       "<style scoped>\n",
       "    .dataframe tbody tr th:only-of-type {\n",
       "        vertical-align: middle;\n",
       "    }\n",
       "\n",
       "    .dataframe tbody tr th {\n",
       "        vertical-align: top;\n",
       "    }\n",
       "\n",
       "    .dataframe thead th {\n",
       "        text-align: right;\n",
       "    }\n",
       "</style>\n",
       "<table border=\"1\" class=\"dataframe\">\n",
       "  <thead>\n",
       "    <tr style=\"text-align: right;\">\n",
       "      <th></th>\n",
       "      <th>Year</th>\n",
       "      <th>Month</th>\n",
       "      <th>MEI</th>\n",
       "      <th>CO2</th>\n",
       "      <th>CH4</th>\n",
       "      <th>N2O</th>\n",
       "      <th>CFC-11</th>\n",
       "      <th>CFC-12</th>\n",
       "      <th>TSI</th>\n",
       "      <th>Aerosols</th>\n",
       "      <th>NO</th>\n",
       "      <th>Temp</th>\n",
       "    </tr>\n",
       "  </thead>\n",
       "  <tbody>\n",
       "    <tr>\n",
       "      <th>0</th>\n",
       "      <td>1983</td>\n",
       "      <td>5</td>\n",
       "      <td>2.556</td>\n",
       "      <td>345.96</td>\n",
       "      <td>1638.59</td>\n",
       "      <td>303.677</td>\n",
       "      <td>191.324</td>\n",
       "      <td>350.113</td>\n",
       "      <td>1366.1024</td>\n",
       "      <td>0.0863</td>\n",
       "      <td>2.63859</td>\n",
       "      <td>0.109</td>\n",
       "    </tr>\n",
       "    <tr>\n",
       "      <th>1</th>\n",
       "      <td>1983</td>\n",
       "      <td>6</td>\n",
       "      <td>2.167</td>\n",
       "      <td>345.52</td>\n",
       "      <td>1633.71</td>\n",
       "      <td>303.746</td>\n",
       "      <td>192.057</td>\n",
       "      <td>351.848</td>\n",
       "      <td>1366.1208</td>\n",
       "      <td>0.0794</td>\n",
       "      <td>2.63371</td>\n",
       "      <td>0.118</td>\n",
       "    </tr>\n",
       "    <tr>\n",
       "      <th>2</th>\n",
       "      <td>1983</td>\n",
       "      <td>7</td>\n",
       "      <td>1.741</td>\n",
       "      <td>344.15</td>\n",
       "      <td>1633.22</td>\n",
       "      <td>303.795</td>\n",
       "      <td>192.818</td>\n",
       "      <td>353.725</td>\n",
       "      <td>1366.2850</td>\n",
       "      <td>0.0731</td>\n",
       "      <td>2.63322</td>\n",
       "      <td>0.137</td>\n",
       "    </tr>\n",
       "    <tr>\n",
       "      <th>3</th>\n",
       "      <td>1983</td>\n",
       "      <td>8</td>\n",
       "      <td>1.130</td>\n",
       "      <td>342.25</td>\n",
       "      <td>1631.35</td>\n",
       "      <td>303.839</td>\n",
       "      <td>193.602</td>\n",
       "      <td>355.633</td>\n",
       "      <td>1366.4202</td>\n",
       "      <td>0.0673</td>\n",
       "      <td>2.63135</td>\n",
       "      <td>0.176</td>\n",
       "    </tr>\n",
       "    <tr>\n",
       "      <th>4</th>\n",
       "      <td>1983</td>\n",
       "      <td>9</td>\n",
       "      <td>0.428</td>\n",
       "      <td>340.17</td>\n",
       "      <td>1648.40</td>\n",
       "      <td>303.901</td>\n",
       "      <td>194.392</td>\n",
       "      <td>357.465</td>\n",
       "      <td>1366.2335</td>\n",
       "      <td>0.0619</td>\n",
       "      <td>2.64840</td>\n",
       "      <td>0.149</td>\n",
       "    </tr>\n",
       "  </tbody>\n",
       "</table>\n",
       "</div>"
      ],
      "text/plain": [
       "   Year  Month    MEI     CO2      CH4      N2O   CFC-11   CFC-12        TSI  \\\n",
       "0  1983      5  2.556  345.96  1638.59  303.677  191.324  350.113  1366.1024   \n",
       "1  1983      6  2.167  345.52  1633.71  303.746  192.057  351.848  1366.1208   \n",
       "2  1983      7  1.741  344.15  1633.22  303.795  192.818  353.725  1366.2850   \n",
       "3  1983      8  1.130  342.25  1631.35  303.839  193.602  355.633  1366.4202   \n",
       "4  1983      9  0.428  340.17  1648.40  303.901  194.392  357.465  1366.2335   \n",
       "\n",
       "   Aerosols       NO   Temp  \n",
       "0    0.0863  2.63859  0.109  \n",
       "1    0.0794  2.63371  0.118  \n",
       "2    0.0731  2.63322  0.137  \n",
       "3    0.0673  2.63135  0.176  \n",
       "4    0.0619  2.64840  0.149  "
      ]
     },
     "execution_count": 37,
     "metadata": {},
     "output_type": "execute_result"
    }
   ],
   "source": [
    "data2 = pd.read_csv(\"climate_change_2.csv\")\n",
    "data2_train = data2[data2.Year <= 2006]\n",
    "data2_test = data2[data2.Year > 2006]\n",
    "data2.head()"
   ]
  },
  {
   "cell_type": "code",
   "execution_count": 44,
   "metadata": {},
   "outputs": [
    {
     "data": {
      "text/plain": [
       "array([1.e-03, 1.e+00])"
      ]
     },
     "execution_count": 44,
     "metadata": {},
     "output_type": "execute_result"
    }
   ],
   "source": [
    "test2 = data2 [data2.Year > 2006]\n",
    "x_test2 = test2[[\"CH4\"]]\n",
    "x_test2_withc = x_test2.copy()\n",
    "x_test2_withc[\"constant\"] = 1 \n",
    "x_test2_withc = x_test2_withc.values\n",
    "y_test2 = test2[\"NO\"].values\n",
    "theta2 = closed_form_1(x_test2_withc,y_test2) \n",
    "theta2"
   ]
  },
  {
   "cell_type": "code",
   "execution_count": 49,
   "metadata": {},
   "outputs": [
    {
     "data": {
      "text/plain": [
       "1.0"
      ]
     },
     "execution_count": 49,
     "metadata": {},
     "output_type": "execute_result"
    }
   ],
   "source": [
    "r = r_square(x_test2_withc,y_test2,theta2)\n",
    "r"
   ]
  },
  {
   "cell_type": "markdown",
   "metadata": {},
   "source": [
    "we can see, in climate2, the CH4 and NO is highly relate since the R square is 1.0. under this circumstance, the $X^T X$ is close to zero, so the data is irreversibility."
   ]
  },
  {
   "cell_type": "markdown",
   "metadata": {},
   "source": [
    "# Problem 2"
   ]
  },
  {
   "cell_type": "markdown",
   "metadata": {},
   "source": [
    "###  1 Loss fuction of LASSO and Ridge regression"
   ]
  },
  {
   "cell_type": "markdown",
   "metadata": {},
   "source": [
    "loss function for linear model with L1 regularization(LASSO):\n",
    "\\begin{equation}\n",
    "\\frac{1}{2m}[\\sum_{i=1}^{m}(\\hat{y}_i-y_i)^2+\\lambda\\sum_{j=1}^{n}\\theta_j^2]\n",
    "\\label{eq:with L1 regularization}\n",
    "\\end{equation}\n",
    "where m is the number of samples, n is the number of explanatory variables\n",
    "\n",
    "\n",
    "loss function for linear model with L2 regularization (Ridge regression):\n",
    "\\begin{equation}\n",
    "\\frac{1}{2m}[\\sum_{i=1}^{m}(\\hat{y}_i-y_i)^2+\\lambda\\sum_{j=1}^{n}\\left|\\theta_j\\right|]\n",
    "\\label{eq:with L2 regularization}\n",
    "\\end{equation}\n",
    "where m is the number of samples, n is the number of explanatory variables\n"
   ]
  },
  {
   "cell_type": "markdown",
   "metadata": {},
   "source": [
    "### 2 L2 regression"
   ]
  },
  {
   "cell_type": "markdown",
   "metadata": {},
   "source": [
    "Suppose Lamda = 0.1"
   ]
  },
  {
   "cell_type": "code",
   "execution_count": 51,
   "metadata": {},
   "outputs": [],
   "source": [
    "def closed_form_2(x,y,lamda):\n",
    "    a = np.identity(np.shape(x)[1])\n",
    "    a[np.shape(x)[1] - 1,np.shape(x)[1] - 1] = 0\n",
    "    return np.linalg.inv(x.T @ x + lamda * a) @ (x.T @ y)"
   ]
  },
  {
   "cell_type": "code",
   "execution_count": 52,
   "metadata": {},
   "outputs": [
    {
     "data": {
      "text/html": [
       "<div>\n",
       "<style scoped>\n",
       "    .dataframe tbody tr th:only-of-type {\n",
       "        vertical-align: middle;\n",
       "    }\n",
       "\n",
       "    .dataframe tbody tr th {\n",
       "        vertical-align: top;\n",
       "    }\n",
       "\n",
       "    .dataframe thead th {\n",
       "        text-align: right;\n",
       "    }\n",
       "</style>\n",
       "<table border=\"1\" class=\"dataframe\">\n",
       "  <thead>\n",
       "    <tr style=\"text-align: right;\">\n",
       "      <th></th>\n",
       "      <th>coefficient_with_L2</th>\n",
       "    </tr>\n",
       "  </thead>\n",
       "  <tbody>\n",
       "    <tr>\n",
       "      <th>MEI</th>\n",
       "      <td>0.058361</td>\n",
       "    </tr>\n",
       "    <tr>\n",
       "      <th>CO2</th>\n",
       "      <td>0.007299</td>\n",
       "    </tr>\n",
       "    <tr>\n",
       "      <th>CH4</th>\n",
       "      <td>0.000189</td>\n",
       "    </tr>\n",
       "    <tr>\n",
       "      <th>N2O</th>\n",
       "      <td>-0.018100</td>\n",
       "    </tr>\n",
       "    <tr>\n",
       "      <th>CFC-11</th>\n",
       "      <td>-0.006900</td>\n",
       "    </tr>\n",
       "    <tr>\n",
       "      <th>CFC-12</th>\n",
       "      <td>0.003886</td>\n",
       "    </tr>\n",
       "    <tr>\n",
       "      <th>TSI</th>\n",
       "      <td>0.087290</td>\n",
       "    </tr>\n",
       "    <tr>\n",
       "      <th>Aerosols</th>\n",
       "      <td>-0.997495</td>\n",
       "    </tr>\n",
       "    <tr>\n",
       "      <th>constant</th>\n",
       "      <td>-116.507105</td>\n",
       "    </tr>\n",
       "  </tbody>\n",
       "</table>\n",
       "</div>"
      ],
      "text/plain": [
       "          coefficient_with_L2\n",
       "MEI                  0.058361\n",
       "CO2                  0.007299\n",
       "CH4                  0.000189\n",
       "N2O                 -0.018100\n",
       "CFC-11              -0.006900\n",
       "CFC-12               0.003886\n",
       "TSI                  0.087290\n",
       "Aerosols            -0.997495\n",
       "constant          -116.507105"
      ]
     },
     "execution_count": 52,
     "metadata": {},
     "output_type": "execute_result"
    }
   ],
   "source": [
    "theta2 = closed_form_2(x_train_withc, y_train, 0.1) \n",
    "theta2_pd = pd.DataFrame(theta2)\n",
    "theta2_pd.columns=[\"coefficient_with_L2\"]\n",
    "theta2_pd.index=[\"MEI\",\"CO2\",\"CH4\",\"N2O\",\"CFC-11\",\"CFC-12\",\"TSI\",\"Aerosols\",\"constant\"]\n",
    "theta2_pd"
   ]
  },
  {
   "cell_type": "markdown",
   "metadata": {},
   "source": [
    "### 3 Compare linear regression and L2 "
   ]
  },
  {
   "cell_type": "code",
   "execution_count": 53,
   "metadata": {},
   "outputs": [
    {
     "data": {
      "text/html": [
       "<div>\n",
       "<style scoped>\n",
       "    .dataframe tbody tr th:only-of-type {\n",
       "        vertical-align: middle;\n",
       "    }\n",
       "\n",
       "    .dataframe tbody tr th {\n",
       "        vertical-align: top;\n",
       "    }\n",
       "\n",
       "    .dataframe thead th {\n",
       "        text-align: right;\n",
       "    }\n",
       "</style>\n",
       "<table border=\"1\" class=\"dataframe\">\n",
       "  <thead>\n",
       "    <tr style=\"text-align: right;\">\n",
       "      <th></th>\n",
       "      <th>coefficient_with_L2</th>\n",
       "      <th>coefficient_without_L2</th>\n",
       "    </tr>\n",
       "  </thead>\n",
       "  <tbody>\n",
       "    <tr>\n",
       "      <th>MEI</th>\n",
       "      <td>0.058361</td>\n",
       "      <td>0.064205</td>\n",
       "    </tr>\n",
       "    <tr>\n",
       "      <th>CO2</th>\n",
       "      <td>0.007299</td>\n",
       "      <td>0.006457</td>\n",
       "    </tr>\n",
       "    <tr>\n",
       "      <th>CH4</th>\n",
       "      <td>0.000189</td>\n",
       "      <td>0.000124</td>\n",
       "    </tr>\n",
       "    <tr>\n",
       "      <th>N2O</th>\n",
       "      <td>-0.018100</td>\n",
       "      <td>-0.016528</td>\n",
       "    </tr>\n",
       "    <tr>\n",
       "      <th>CFC-11</th>\n",
       "      <td>-0.006900</td>\n",
       "      <td>-0.006630</td>\n",
       "    </tr>\n",
       "    <tr>\n",
       "      <th>CFC-12</th>\n",
       "      <td>0.003886</td>\n",
       "      <td>0.003808</td>\n",
       "    </tr>\n",
       "    <tr>\n",
       "      <th>TSI</th>\n",
       "      <td>0.087290</td>\n",
       "      <td>0.093141</td>\n",
       "    </tr>\n",
       "    <tr>\n",
       "      <th>Aerosols</th>\n",
       "      <td>-0.997495</td>\n",
       "      <td>-1.537613</td>\n",
       "    </tr>\n",
       "    <tr>\n",
       "      <th>constant</th>\n",
       "      <td>-116.507105</td>\n",
       "      <td>-124.594262</td>\n",
       "    </tr>\n",
       "  </tbody>\n",
       "</table>\n",
       "</div>"
      ],
      "text/plain": [
       "          coefficient_with_L2  coefficient_without_L2\n",
       "MEI                  0.058361                0.064205\n",
       "CO2                  0.007299                0.006457\n",
       "CH4                  0.000189                0.000124\n",
       "N2O                 -0.018100               -0.016528\n",
       "CFC-11              -0.006900               -0.006630\n",
       "CFC-12               0.003886                0.003808\n",
       "TSI                  0.087290                0.093141\n",
       "Aerosols            -0.997495               -1.537613\n",
       "constant          -116.507105             -124.594262"
      ]
     },
     "execution_count": 53,
     "metadata": {},
     "output_type": "execute_result"
    }
   ],
   "source": [
    "theta2_pd_compare = theta2_pd.copy()\n",
    "theta2_pd_compare[\"coefficient_without_L2\"] = theta1\n",
    "theta2_pd_compare"
   ]
  },
  {
   "cell_type": "markdown",
   "metadata": {},
   "source": [
    "The reason that L2 is more robust is the higer $R^2$ .\n",
    "According to the result in 4 and result in Problem 1, the $R^2$ on test set is higher than the model without L2 regularization."
   ]
  },
  {
   "cell_type": "markdown",
   "metadata": {},
   "source": [
    "### 4. cross validation"
   ]
  },
  {
   "cell_type": "code",
   "execution_count": 60,
   "metadata": {},
   "outputs": [
    {
     "data": {
      "text/html": [
       "<div>\n",
       "<style scoped>\n",
       "    .dataframe tbody tr th:only-of-type {\n",
       "        vertical-align: middle;\n",
       "    }\n",
       "\n",
       "    .dataframe tbody tr th {\n",
       "        vertical-align: top;\n",
       "    }\n",
       "\n",
       "    .dataframe thead th {\n",
       "        text-align: right;\n",
       "    }\n",
       "</style>\n",
       "<table border=\"1\" class=\"dataframe\">\n",
       "  <thead>\n",
       "    <tr style=\"text-align: right;\">\n",
       "      <th></th>\n",
       "      <th>r_square of train_set</th>\n",
       "      <th>r_square of test_set</th>\n",
       "    </tr>\n",
       "  </thead>\n",
       "  <tbody>\n",
       "    <tr>\n",
       "      <th>10.000</th>\n",
       "      <td>0.699675</td>\n",
       "      <td>0.299372</td>\n",
       "    </tr>\n",
       "    <tr>\n",
       "      <th>1.000</th>\n",
       "      <td>0.713193</td>\n",
       "      <td>0.264121</td>\n",
       "    </tr>\n",
       "    <tr>\n",
       "      <th>0.100</th>\n",
       "      <td>0.739433</td>\n",
       "      <td>0.228466</td>\n",
       "    </tr>\n",
       "    <tr>\n",
       "      <th>0.010</th>\n",
       "      <td>0.749615</td>\n",
       "      <td>0.217094</td>\n",
       "    </tr>\n",
       "    <tr>\n",
       "      <th>0.001</th>\n",
       "      <td>0.750766</td>\n",
       "      <td>0.216300</td>\n",
       "    </tr>\n",
       "  </tbody>\n",
       "</table>\n",
       "</div>"
      ],
      "text/plain": [
       "        r_square of train_set  r_square of test_set\n",
       "10.000               0.699675              0.299372\n",
       "1.000                0.713193              0.264121\n",
       "0.100                0.739433              0.228466\n",
       "0.010                0.749615              0.217094\n",
       "0.001                0.750766              0.216300"
      ]
     },
     "execution_count": 60,
     "metadata": {},
     "output_type": "execute_result"
    }
   ],
   "source": [
    "lamda = [10, 1, 0.1, 0.01, 0.001]\n",
    "r_square_train_list = []\n",
    "r_square_test_list = []\n",
    "for i in lamda:\n",
    "    theta = closed_form_2(x_train_withc, y_train, i) \n",
    "    r_square_train = r_square(x_train_withc, y_train, theta)\n",
    "    r_square_train_list.append(r_square_train)\n",
    "    r_square_test = r_square(x_test_withc, y_test, theta)\n",
    "    r_square_test_list.append(r_square_test)\n",
    "r_result = pd.DataFrame()\n",
    "r_result[\"r_square of train_set\"] = r_square_train_list\n",
    "r_result[\"r_square of test_set\"] = r_square_test_list\n",
    "r_result.index = lamda\n",
    "r_result"
   ]
  },
  {
   "cell_type": "code",
   "execution_count": 61,
   "metadata": {},
   "outputs": [
    {
     "name": "stdout",
     "output_type": "stream",
     "text": [
      "when cv = 5, the best lambda is 0.001\n",
      "when cv = 10, the best lambda is 0.01\n"
     ]
    }
   ],
   "source": [
    "ridgecv = RidgeCV(alphas=[10, 1, 0.1, 0.01, 0.001], cv=5)\n",
    "ridgecv.fit(x_train, y_train)\n",
    "print(\"when cv = 5, the best lambda is {}\".format(ridgecv.alpha_))\n",
    "ridgecv = RidgeCV(alphas=[100,10, 1, 0.1, 0.01, 0.001,0.0001], cv=10)\n",
    "ridgecv.fit(x_train, y_train)\n",
    "print(\"when cv = 10, the best lambda is {}\".format(ridgecv.alpha_))"
   ]
  },
  {
   "cell_type": "markdown",
   "metadata": {},
   "source": [
    "# Problem 3"
   ]
  },
  {
   "cell_type": "markdown",
   "metadata": {},
   "source": [
    "Step one:\n",
    "    \n",
    "    get the correlation coefficient matrix and calculate \n",
    "$vif_i=\\sum_{j\\not=i}\\frac{1}{1-R_j^2}$ \n",
    "    \n",
    "    to find the variable that is highly correlated with other variables."
   ]
  },
  {
   "cell_type": "code",
   "execution_count": 71,
   "metadata": {},
   "outputs": [
    {
     "data": {
      "text/html": [
       "<div>\n",
       "<style scoped>\n",
       "    .dataframe tbody tr th:only-of-type {\n",
       "        vertical-align: middle;\n",
       "    }\n",
       "\n",
       "    .dataframe tbody tr th {\n",
       "        vertical-align: top;\n",
       "    }\n",
       "\n",
       "    .dataframe thead th {\n",
       "        text-align: right;\n",
       "    }\n",
       "</style>\n",
       "<table border=\"1\" class=\"dataframe\">\n",
       "  <thead>\n",
       "    <tr style=\"text-align: right;\">\n",
       "      <th></th>\n",
       "      <th>MEI</th>\n",
       "      <th>CO2</th>\n",
       "      <th>CH4</th>\n",
       "      <th>N2O</th>\n",
       "      <th>CFC-11</th>\n",
       "      <th>CFC-12</th>\n",
       "      <th>TSI</th>\n",
       "      <th>Aerosols</th>\n",
       "    </tr>\n",
       "  </thead>\n",
       "  <tbody>\n",
       "    <tr>\n",
       "      <th>MEI</th>\n",
       "      <td>1.000000</td>\n",
       "      <td>-0.041147</td>\n",
       "      <td>-0.033419</td>\n",
       "      <td>-0.050820</td>\n",
       "      <td>0.069000</td>\n",
       "      <td>0.008286</td>\n",
       "      <td>-0.154492</td>\n",
       "      <td>0.340238</td>\n",
       "    </tr>\n",
       "    <tr>\n",
       "      <th>CO2</th>\n",
       "      <td>-0.041147</td>\n",
       "      <td>1.000000</td>\n",
       "      <td>0.877280</td>\n",
       "      <td>0.976720</td>\n",
       "      <td>0.514060</td>\n",
       "      <td>0.852690</td>\n",
       "      <td>0.177429</td>\n",
       "      <td>-0.356155</td>\n",
       "    </tr>\n",
       "    <tr>\n",
       "      <th>CH4</th>\n",
       "      <td>-0.033419</td>\n",
       "      <td>0.877280</td>\n",
       "      <td>1.000000</td>\n",
       "      <td>0.899839</td>\n",
       "      <td>0.779904</td>\n",
       "      <td>0.963616</td>\n",
       "      <td>0.245528</td>\n",
       "      <td>-0.267809</td>\n",
       "    </tr>\n",
       "    <tr>\n",
       "      <th>N2O</th>\n",
       "      <td>-0.050820</td>\n",
       "      <td>0.976720</td>\n",
       "      <td>0.899839</td>\n",
       "      <td>1.000000</td>\n",
       "      <td>0.522477</td>\n",
       "      <td>0.867931</td>\n",
       "      <td>0.199757</td>\n",
       "      <td>-0.337055</td>\n",
       "    </tr>\n",
       "    <tr>\n",
       "      <th>CFC-11</th>\n",
       "      <td>0.069000</td>\n",
       "      <td>0.514060</td>\n",
       "      <td>0.779904</td>\n",
       "      <td>0.522477</td>\n",
       "      <td>1.000000</td>\n",
       "      <td>0.868985</td>\n",
       "      <td>0.272046</td>\n",
       "      <td>-0.043921</td>\n",
       "    </tr>\n",
       "    <tr>\n",
       "      <th>CFC-12</th>\n",
       "      <td>0.008286</td>\n",
       "      <td>0.852690</td>\n",
       "      <td>0.963616</td>\n",
       "      <td>0.867931</td>\n",
       "      <td>0.868985</td>\n",
       "      <td>1.000000</td>\n",
       "      <td>0.255303</td>\n",
       "      <td>-0.225131</td>\n",
       "    </tr>\n",
       "    <tr>\n",
       "      <th>TSI</th>\n",
       "      <td>-0.154492</td>\n",
       "      <td>0.177429</td>\n",
       "      <td>0.245528</td>\n",
       "      <td>0.199757</td>\n",
       "      <td>0.272046</td>\n",
       "      <td>0.255303</td>\n",
       "      <td>1.000000</td>\n",
       "      <td>0.052117</td>\n",
       "    </tr>\n",
       "    <tr>\n",
       "      <th>Aerosols</th>\n",
       "      <td>0.340238</td>\n",
       "      <td>-0.356155</td>\n",
       "      <td>-0.267809</td>\n",
       "      <td>-0.337055</td>\n",
       "      <td>-0.043921</td>\n",
       "      <td>-0.225131</td>\n",
       "      <td>0.052117</td>\n",
       "      <td>1.000000</td>\n",
       "    </tr>\n",
       "  </tbody>\n",
       "</table>\n",
       "</div>"
      ],
      "text/plain": [
       "               MEI       CO2       CH4       N2O    CFC-11    CFC-12  \\\n",
       "MEI       1.000000 -0.041147 -0.033419 -0.050820  0.069000  0.008286   \n",
       "CO2      -0.041147  1.000000  0.877280  0.976720  0.514060  0.852690   \n",
       "CH4      -0.033419  0.877280  1.000000  0.899839  0.779904  0.963616   \n",
       "N2O      -0.050820  0.976720  0.899839  1.000000  0.522477  0.867931   \n",
       "CFC-11    0.069000  0.514060  0.779904  0.522477  1.000000  0.868985   \n",
       "CFC-12    0.008286  0.852690  0.963616  0.867931  0.868985  1.000000   \n",
       "TSI      -0.154492  0.177429  0.245528  0.199757  0.272046  0.255303   \n",
       "Aerosols  0.340238 -0.356155 -0.267809 -0.337055 -0.043921 -0.225131   \n",
       "\n",
       "               TSI  Aerosols  \n",
       "MEI      -0.154492  0.340238  \n",
       "CO2       0.177429 -0.356155  \n",
       "CH4       0.245528 -0.267809  \n",
       "N2O       0.199757 -0.337055  \n",
       "CFC-11    0.272046 -0.043921  \n",
       "CFC-12    0.255303 -0.225131  \n",
       "TSI       1.000000  0.052117  \n",
       "Aerosols  0.052117  1.000000  "
      ]
     },
     "execution_count": 71,
     "metadata": {},
     "output_type": "execute_result"
    }
   ],
   "source": [
    "correlation = x_train.corr()\n",
    "correlation"
   ]
  },
  {
   "cell_type": "code",
   "execution_count": 72,
   "metadata": {},
   "outputs": [],
   "source": [
    "def vif(x):\n",
    "    correlation = x.corr()\n",
    "    vif = np.zeros(np.shape(x)[1])\n",
    "    for i in range(np.shape(x)[1]):\n",
    "        for j in range(np.shape(x)[1]):\n",
    "            if i!= j :\n",
    "                vif[i] += 1 / (1-correlation.iloc[i,j] ** 2)\n",
    "    return vif\n"
   ]
  },
  {
   "cell_type": "code",
   "execution_count": 74,
   "metadata": {},
   "outputs": [
    {
     "data": {
      "text/plain": [
       "array([ 7.16562416, 34.27380297, 29.28798479, 35.58693396, 12.45783187,\n",
       "       28.92174134,  7.31504007,  7.53966644])"
      ]
     },
     "execution_count": 74,
     "metadata": {},
     "output_type": "execute_result"
    }
   ],
   "source": [
    "vif(x_train)"
   ]
  },
  {
   "cell_type": "markdown",
   "metadata": {},
   "source": [
    "Step two:\n",
    "    \n",
    "    N2O has the biggest vif.\n",
    "    remove N2O since it has biggest vif"
   ]
  },
  {
   "cell_type": "code",
   "execution_count": 76,
   "metadata": {},
   "outputs": [
    {
     "data": {
      "text/plain": [
       "array([ 6.16303483, 12.54336315, 24.03285936, 11.08234907, 24.86817211,\n",
       "        6.27347894,  6.41150023])"
      ]
     },
     "execution_count": 76,
     "metadata": {},
     "output_type": "execute_result"
    }
   ],
   "source": [
    "x_train_1 = x_train.drop(columns = [\"N2O\"])\n",
    "vif(x_train_1)"
   ]
  },
  {
   "cell_type": "markdown",
   "metadata": {},
   "source": [
    "Step three:\n",
    "    \n",
    "    CFC-12 has the biggest vif.\n",
    "    remove CFC-12 since it has biggest vif"
   ]
  },
  {
   "cell_type": "code",
   "execution_count": 77,
   "metadata": {},
   "outputs": [
    {
     "data": {
      "text/plain": [
       "array([ 5.16296617,  8.87929113, 10.03582924,  6.99846198,  5.20375483,\n",
       "        5.35811013])"
      ]
     },
     "execution_count": 77,
     "metadata": {},
     "output_type": "execute_result"
    }
   ],
   "source": [
    "x_train_1 = x_train_1.drop(columns = [\"CFC-12\"])\n",
    "vif(x_train_1)"
   ]
  },
  {
   "cell_type": "markdown",
   "metadata": {},
   "source": [
    "Step four:\n",
    "    \n",
    "    CH4 has the biggest vif.\n",
    "    remove CH4 since it has biggest vif"
   ]
  },
  {
   "cell_type": "code",
   "execution_count": 79,
   "metadata": {},
   "outputs": [
    {
     "data": {
      "text/plain": [
       "array([4.16184807, 4.53864495, 4.44581178, 4.13960328, 4.28084691])"
      ]
     },
     "execution_count": 79,
     "metadata": {},
     "output_type": "execute_result"
    }
   ],
   "source": [
    "x_train_1 = x_train_1.drop(columns = [\"CH4\"])\n",
    "vif(x_train_1)"
   ]
  },
  {
   "cell_type": "markdown",
   "metadata": {},
   "source": [
    "Step five:\n",
    "\n",
    "   CFC-11 has the biggest vif.\n",
    "   remove CFC-11 since it has biggest vif"
   ]
  },
  {
   "cell_type": "code",
   "execution_count": 81,
   "metadata": {},
   "outputs": [
    {
     "data": {
      "text/plain": [
       "array([3.15706424, 3.17947391, 3.05967918, 3.27891411])"
      ]
     },
     "execution_count": 81,
     "metadata": {},
     "output_type": "execute_result"
    }
   ],
   "source": [
    "x_train_1 = x_train_1.drop(columns = [\"CFC-11\"])\n",
    "vif(x_train_1)"
   ]
  },
  {
   "cell_type": "code",
   "execution_count": 88,
   "metadata": {},
   "outputs": [
    {
     "data": {
      "text/html": [
       "<div>\n",
       "<style scoped>\n",
       "    .dataframe tbody tr th:only-of-type {\n",
       "        vertical-align: middle;\n",
       "    }\n",
       "\n",
       "    .dataframe tbody tr th {\n",
       "        vertical-align: top;\n",
       "    }\n",
       "\n",
       "    .dataframe thead th {\n",
       "        text-align: right;\n",
       "    }\n",
       "</style>\n",
       "<table border=\"1\" class=\"dataframe\">\n",
       "  <thead>\n",
       "    <tr style=\"text-align: right;\">\n",
       "      <th></th>\n",
       "      <th>MEI</th>\n",
       "      <th>CO2</th>\n",
       "      <th>TSI</th>\n",
       "      <th>Aerosols</th>\n",
       "    </tr>\n",
       "  </thead>\n",
       "  <tbody>\n",
       "    <tr>\n",
       "      <th>MEI</th>\n",
       "      <td>1.000000</td>\n",
       "      <td>-0.041147</td>\n",
       "      <td>-0.154492</td>\n",
       "      <td>0.340238</td>\n",
       "    </tr>\n",
       "    <tr>\n",
       "      <th>CO2</th>\n",
       "      <td>-0.041147</td>\n",
       "      <td>1.000000</td>\n",
       "      <td>0.177429</td>\n",
       "      <td>-0.356155</td>\n",
       "    </tr>\n",
       "    <tr>\n",
       "      <th>TSI</th>\n",
       "      <td>-0.154492</td>\n",
       "      <td>0.177429</td>\n",
       "      <td>1.000000</td>\n",
       "      <td>0.052117</td>\n",
       "    </tr>\n",
       "    <tr>\n",
       "      <th>Aerosols</th>\n",
       "      <td>0.340238</td>\n",
       "      <td>-0.356155</td>\n",
       "      <td>0.052117</td>\n",
       "      <td>1.000000</td>\n",
       "    </tr>\n",
       "  </tbody>\n",
       "</table>\n",
       "</div>"
      ],
      "text/plain": [
       "               MEI       CO2       TSI  Aerosols\n",
       "MEI       1.000000 -0.041147 -0.154492  0.340238\n",
       "CO2      -0.041147  1.000000  0.177429 -0.356155\n",
       "TSI      -0.154492  0.177429  1.000000  0.052117\n",
       "Aerosols  0.340238 -0.356155  0.052117  1.000000"
      ]
     },
     "execution_count": 88,
     "metadata": {},
     "output_type": "execute_result"
    }
   ],
   "source": [
    "x_train_1.corr()"
   ]
  },
  {
   "cell_type": "code",
   "execution_count": 89,
   "metadata": {},
   "outputs": [
    {
     "data": {
      "text/plain": [
       "0.32569067160230875"
      ]
     },
     "execution_count": 89,
     "metadata": {},
     "output_type": "execute_result"
    }
   ],
   "source": [
    "x_train_withc_1 =  x_train_1.copy()\n",
    "x_train_withc_1[\"constant\"] = 1\n",
    "x_test_1 = x_test.drop(columns = [\"N2O\",\"CH4\",\"CFC-12\",\"CFC-11\"])\n",
    "x_test_withc_1 =  x_test_1.copy()\n",
    "x_test_withc_1[\"constant\"] = 1\n",
    "theta1 = closed_form_1(x_train_withc_1, y_train) \n",
    "r_square_test = r_square(x_test_withc_1, y_test, theta1)\n",
    "r_square_test"
   ]
  },
  {
   "cell_type": "markdown",
   "metadata": {},
   "source": [
    "# Problem 4"
   ]
  },
  {
   "cell_type": "code",
   "execution_count": 62,
   "metadata": {},
   "outputs": [],
   "source": [
    "def Gradient_Descent(alpha, theta_0, x, y, tol):\n",
    "    theta = theta_0\n",
    "    cost = (1/len(x)) * (x.T @ (x @ theta_0 - y))\n",
    "    count = 0\n",
    "    while not ((np.all(cost) <= tol) | (count > 10000)):\n",
    "        count += 1\n",
    "        theta = theta - alpha * (1./len(x)) * (x.T @ (x @ theta - y))\n",
    "        cost = (1./len(x)) * (x.T @ (x @ theta - y))\n",
    "    print('times is {}'.format(count))\n",
    "    return theta\n"
   ]
  },
  {
   "cell_type": "code",
   "execution_count": 68,
   "metadata": {},
   "outputs": [
    {
     "name": "stdout",
     "output_type": "stream",
     "text": [
      "times is 10001\n"
     ]
    }
   ],
   "source": [
    "x_GD = np.array([[1, 2, 3, 4, 5, 6, 7, 8, 9, 10],[2, 5, 7, 8, 6, 10, 13, 17, 18, 19]])\n",
    "x_GD = np.insert(x_GD, 0, np.ones(10), axis = 0).T\n",
    "y_GD = np.array([10, 33, 34, 37, 36, 39, 41, 44, 44, 45])\n",
    "theta_GD = Gradient_Descent(0.01, np.ones(3), x_GD, y_GD, 1e-5)"
   ]
  },
  {
   "cell_type": "code",
   "execution_count": 69,
   "metadata": {},
   "outputs": [
    {
     "data": {
      "text/plain": [
       "array([21.04187218,  2.06418162,  0.37191704])"
      ]
     },
     "execution_count": 69,
     "metadata": {},
     "output_type": "execute_result"
    }
   ],
   "source": [
    "theta_GD"
   ]
  },
  {
   "cell_type": "code",
   "execution_count": 70,
   "metadata": {},
   "outputs": [
    {
     "data": {
      "text/plain": [
       "array([21.0418722 ,  2.06418161,  0.37191704])"
      ]
     },
     "execution_count": 70,
     "metadata": {},
     "output_type": "execute_result"
    }
   ],
   "source": [
    "\n",
    "theta3 = closed_form_1(x_GD,y_GD) \n",
    "theta3"
   ]
  },
  {
   "cell_type": "markdown",
   "metadata": {},
   "source": [
    "the parameter we calculate through grandient is almost the same with the linear regression!"
   ]
  }
 ],
 "metadata": {
  "kernelspec": {
   "display_name": "Python 3",
   "language": "python",
   "name": "python3"
  },
  "language_info": {
   "codemirror_mode": {
    "name": "ipython",
    "version": 3
   },
   "file_extension": ".py",
   "mimetype": "text/x-python",
   "name": "python",
   "nbconvert_exporter": "python",
   "pygments_lexer": "ipython3",
   "version": "3.7.3"
  }
 },
 "nbformat": 4,
 "nbformat_minor": 2
}
